{
  "cells": [
    {
      "cell_type": "code",
      "execution_count": null,
      "id": "22843c6c-2dca-45b2-8ab1-b744fc28bc34",
      "metadata": {
        "cellView": "form",
        "id": "22843c6c-2dca-45b2-8ab1-b744fc28bc34"
      },
      "outputs": [],
      "source": [
        "#@title ↓ Нажми на кнопку, чтобы всё настроить\n",
        "print('Настройка началась')\n",
        "!pip install kaleido --quiet\n",
        "!pip install gspread==3.6 --quiet \n",
        "!pip install Pillow --quiet\n",
        "\n",
        "!curl -o MSUfootballapp.py https://raw.githubusercontent.com/Jinedl/MSUfootballapp/main/MSUfootballapp.py\n",
        "!curl -o key.json https://raw.githubusercontent.com/Jinedl/MSUfootballapp/main/msufootballauto-a47858fff82b.json\n",
        "print('Настройка завершилась, перезапусти среду выполнения, затем выполняй следующий шаг, сколько угодно раз, без выполнения этого шага')\n",
        "\n",
        "if 'google.colab' in str(get_ipython()):\n",
        "    import IPython, ipywidgets, google\n",
        "\n",
        "    button = ipywidgets.Button(\n",
        "        description='Нажмите, чтобы перезапустить',\n",
        "        layout=ipywidgets.Layout(width='auto', height='40px')\n",
        "    )        \n",
        "    button.on_click(lambda _: get_ipython().kernel.do_shutdown(True))\n",
        "    IPython.display.display(button)"
      ]
    },
    {
      "cell_type": "markdown",
      "source": [
        "# Создание расписания"
      ],
      "metadata": {
        "id": "sLymg8zm8iUx"
      },
      "id": "sLymg8zm8iUx"
    },
    {
      "cell_type": "code",
      "source": [
        "#@title ↓ Нажми на кнопку, чтобы создать картинку с таблицей, прежде задай параметры ниже\n",
        "\n",
        "from MSUfootballapp import *\n",
        "\n",
        "Источник_данных_для_расписания = 'XII Чемпионат ОПК × II Чемпионат выпускников/Расписание' #@param [\"XII Чемпионат ОПК × II Чемпионат выпускников/Расписание\"] {allow-input: true}\n",
        "Источник_данных_для_сокращённых_названий_команд = 'База данных для автоматизации/Сокращения' #@param [\"База данных для автоматизации/Сокращения\"] {allow-input: true}\n",
        "Источник_данных_для_подложки = 'База данных для автоматизации/Подложки' #@param [\"База данных для автоматизации/Сокращения\", \"Загрузить вручную\"] {allow-input: true}\n",
        "\n",
        "Дата_матчей_1 = '' #@param {type:\"date\"}\n",
        "Дата_матчей_2 = '' #@param {type:\"date\"}\n",
        "Дата_матчей_3 = '' #@param {type:\"date\"}\n",
        "\n",
        "Кубок_Ректора = False #@param {type:\"boolean\"}\n",
        "Малый_Кубок_Ректора = False #@param {type:\"boolean\"}\n",
        "Чемпионат_Выпускников = False #@param {type:\"boolean\"}\n",
        "Высший_Дивизион = False #@param {type:\"boolean\"}\n",
        "Дивизион_1А = False #@param {type:\"boolean\"}\n",
        "Дивизион_1Б = False #@param {type:\"boolean\"}\n",
        "Дивизион_1В = False #@param {type:\"boolean\"}\n",
        "Дивизион_2А = False #@param {type:\"boolean\"}\n",
        "Дивизион_2Б = False #@param {type:\"boolean\"}\n",
        "Дивизион_2В = False #@param {type:\"boolean\"}\n",
        "\n",
        "Ширина_выходного_файла_с_расписанием = 1280 #@param {type:\"integer\"}\n",
        "Высота_выходного_файла_с_расписанием = 1280 #@param {type:\"integer\"}\n",
        "Название_выходного_файла_с_расписанием = 'table.jpg' #@param {type:\"string\"}\n",
        "\n",
        "timetable_ds = timetable_ds_input(Источник_данных_для_расписания)\n",
        "shortname_ds = shortname_ds_input(Источник_данных_для_сокращённых_названий_команд)\n",
        "background_ds = picture_ds_input(Источник_данных_для_подложки)\n",
        "\n",
        "dates = dates_input([Дата_матчей_1, Дата_матчей_2, Дата_матчей_3])\n",
        "tournaments = tournaments_input([Кубок_Ректора, Малый_Кубок_Ректора, Чемпионат_Выпускников, Высший_Дивизион, Дивизион_1А, Дивизион_1Б, Дивизион_1В, Дивизион_2А, Дивизион_2Б, Дивизион_2В])\n",
        "\n",
        "background = \"Расписание\"\n",
        "timetable_picture_width = Ширина_выходного_файла_с_расписанием\n",
        "timetable_picture_height = Высота_выходного_файла_с_расписанием\n",
        "fname = Название_выходного_файла_с_расписанием\n",
        "\n",
        "print('Делаем картинку')\n",
        "timetable_picture = make_timetable_picture(background_ds, background, timetable_ds, dates, tournaments, shortname_ds)\n",
        "timetable_picture.resize((timetable_picture_width, timetable_picture_height)).save(fname)\n",
        "files.download(fname)\n",
        "print(f'Картинка {fname} сделана и скачана на ваш ПК, также её можно найти, нажав кнопку слева в виде папки')"
      ],
      "metadata": {
        "id": "9EyM-gZLNa1L",
        "cellView": "form"
      },
      "id": "9EyM-gZLNa1L",
      "execution_count": null,
      "outputs": []
    },
    {
      "cell_type": "markdown",
      "source": [
        "# Создание обложек для видео"
      ],
      "metadata": {
        "id": "UgFeSZgH8n51"
      },
      "id": "UgFeSZgH8n51"
    },
    {
      "cell_type": "markdown",
      "source": [
        "## Создание одной обложки"
      ],
      "metadata": {
        "id": "c7gKRNYxqApN"
      },
      "id": "c7gKRNYxqApN"
    },
    {
      "cell_type": "code",
      "source": [
        "#@title ↓ Нажми на кнопку, чтобы создать обложку, прежде задай параметры ниже\n",
        "\n",
        "from MSUfootballapp import *\n",
        "\n",
        "Источник_данных_для_эмблем = 'База данных для автоматизации/Эмблемы' #@param [\"База данных для автоматизации/Эмблемы\", \"Загрузить вручную\"] {allow-input: true}\n",
        "Источник_данных_для_подложки = 'База данных для автоматизации/Подложки' #@param [\"База данных для автоматизации/Подложки\", \"Загрузить вручную\"] {allow-input: true}\n",
        "Источник_данных_для_шрифта = 'База данных для автоматизации/Шрифты' #@param [\"База данных для автоматизации/Шрифты\", \"Загрузить вручную\"] {allow-input: true}\n",
        "\n",
        "Команда_1 = '' #@param {type:\"string\"}\n",
        "Команда_2 = '' #@param {type:\"string\"}\n",
        "Дата = '' #@param {type:\"string\"}\n",
        "Турнир = '' #@param {type:\"string\"}\n",
        "\n",
        "Подложка = '' #@param [\"Обложка ОПК прямая трансляция\", \"Обложка ОПК полный матч\", \"Обложка ОПК обзор\", \"Обложка ЧВ прямая трансляция\", \"Обложка ЧВ полный матч\", \"Обложка ЧВ обзор\", \"Обложка КР прямая трансляция\", \"Обложка КР полный матч\", \"Обложка КР обзор\"] {allow-input: true}\n",
        "Шрифт = '' #@param [\"Trebuchet MS Regular\", \"Trebuchet MS Bold\"] {allow-input: true}\n",
        "Ширина_выходного_файла_с_обложкой = 1280 #@param {type:\"integer\"}\n",
        "Высота_выходного_файла_с_обложкой = 720 #@param {type:\"integer\"}\n",
        "Название_выходного_файла_с_обложкой = 'cover.jpg' #@param {type:\"string\"}\n",
        "\n",
        "logo_ds = picture_ds_input(Источник_данных_для_эмблем)\n",
        "background_ds = picture_ds_input(Источник_данных_для_подложки)\n",
        "font_ds = font_ds_input(Источник_данных_для_шрифта)\n",
        "\n",
        "team_1 = Команда_1.strip()\n",
        "team_2 = Команда_2.strip()\n",
        "date = Дата\n",
        "tournament = Турнир\n",
        "\n",
        "background = Подложка\n",
        "font = Шрифт\n",
        "cover_width = Ширина_выходного_файла_с_обложкой\n",
        "cover_height = Высота_выходного_файла_с_обложкой\n",
        "fname = Название_выходного_файла_с_обложкой\n",
        "\n",
        "print('Делаем картинку')\n",
        "cover = make_cover(background_ds, background, logo_ds, font_ds, font, team_1, team_2, date, tournament)\n",
        "cover.resize((cover_width, cover_height)).save(fname)\n",
        "files.download(fname)\n",
        "print(f'Картинка {fname} сделана и скачана на ваш ПК, также её можно найти, нажав кнопку слева в виде папки')"
      ],
      "metadata": {
        "cellView": "form",
        "id": "IOyKBW4MkGQy"
      },
      "id": "IOyKBW4MkGQy",
      "execution_count": null,
      "outputs": []
    },
    {
      "cell_type": "markdown",
      "source": [
        "## Создание нескольких обложек"
      ],
      "metadata": {
        "id": "cEIziIJKqxwC"
      },
      "id": "cEIziIJKqxwC"
    },
    {
      "cell_type": "code",
      "source": [
        "#@title ↓ Нажми на кнопку, чтобы создать обложку для матчей из расписания, прежде задай параметры ниже\n",
        "\n",
        "from MSUfootballapp import *\n",
        "\n",
        "Источник_данных_для_расписания = 'XII Чемпионат ОПК × II Чемпионат выпускников/Расписание' #@param [\"XII Чемпионат ОПК × II Чемпионат выпускников/Расписание\"] {allow-input: true}\n",
        "Источник_данных_для_эмблем = 'База данных для автоматизации/Эмблемы' #@param [\"База данных для автоматизации/Эмблемы\", \"Загрузить вручную\"] {allow-input: true}\n",
        "Источник_данных_для_подложки = 'База данных для автоматизации/Подложки' #@param [\"База данных для автоматизации/Подложки\", \"Загрузить вручную\"] {allow-input: true}\n",
        "Источник_данных_для_шрифта = 'База данных для автоматизации/Шрифты' #@param [\"База данных для автоматизации/Шрифты\", \"Загрузить вручную\"] {allow-input: true}\n",
        "\n",
        "Дата_матчей_1 = '' #@param {type:\"date\"}\n",
        "Дата_матчей_2 = '' #@param {type:\"date\"}\n",
        "Дата_матчей_3 = '' #@param {type:\"date\"}\n",
        "\n",
        "Подложка = '' #@param [\"Обложка прямая трансляция\", \"Обложка полный матч\", \"Обложка обзор\"] {allow-input: true}\n",
        "Шрифт = '' #@param [\"Trebuchet MS Regular\", \"Trebuchet MS Bold\"] {allow-input: true}\n",
        "Ширина_выходных_файлов_с_обложками = 1280 #@param {type:\"integer\"}\n",
        "Высота_выходных_файлов_с_обложками = 720 #@param {type:\"integer\"}\n",
        "Название_выходных_файлов_с_обложками = 'cover.jpg' #@param {type:\"string\"}\n",
        "\n",
        "timetable_ds = timetable_ds_input(Источник_данных_для_расписания)\n",
        "logo_ds = picture_ds_input(Источник_данных_для_эмблем)\n",
        "background_ds = picture_ds_input(Источник_данных_для_подложки)\n",
        "font_ds = font_ds_input(Источник_данных_для_шрифта)\n",
        "\n",
        "dates = dates_input([Дата_матчей_1, Дата_матчей_2, Дата_матчей_3])\n",
        "\n",
        "background = Подложка\n",
        "font = Шрифт\n",
        "cover_width = Ширина_выходных_файлов_с_обложками\n",
        "cover_height = Высота_выходных_файлов_с_обложками\n",
        "fname = Название_выходных_файлов_с_обложками\n",
        "\n",
        "print('Делаем картинку')\n",
        "covers = make_many_covers(background_ds, background, logo_ds, font_ds, font, timetable_ds, dates)\n",
        "num = 1\n",
        "for c in covers:\n",
        "    c_fname = f'{num}_{fname}'\n",
        "    num += 1\n",
        "    c.resize((cover_width, cover_height)).save(c_fname)\n",
        "    files.download(c_fname)\n",
        "    print(f'Картинка {c_fname} сделана и скачана на ваш ПК, также её можно найти, нажав кнопку слева в виде папки')"
      ],
      "metadata": {
        "cellView": "form",
        "id": "cxJ6amtedISL"
      },
      "id": "cxJ6amtedISL",
      "execution_count": null,
      "outputs": []
    },
    {
      "cell_type": "markdown",
      "source": [
        "# Инструкция"
      ],
      "metadata": {
        "id": "7SgqWu0r8wBu"
      },
      "id": "7SgqWu0r8wBu"
    },
    {
      "cell_type": "markdown",
      "source": [
        "По всем вопросам пишите @Jinedl (TG, VK)"
      ],
      "metadata": {
        "id": "w1n0dxzqETea"
      },
      "id": "w1n0dxzqETea"
    },
    {
      "cell_type": "markdown",
      "source": [
        "Когда-нибудь тут будет инструкция по использованию и документация к коду"
      ],
      "metadata": {
        "id": "M0HQ2KhL89_j"
      },
      "id": "M0HQ2KhL89_j"
    }
  ],
  "metadata": {
    "colab": {
      "provenance": [],
      "collapsed_sections": [
        "sLymg8zm8iUx",
        "UgFeSZgH8n51",
        "c7gKRNYxqApN",
        "cEIziIJKqxwC",
        "7SgqWu0r8wBu"
      ]
    },
    "kernelspec": {
      "display_name": "Python 3 (ipykernel)",
      "language": "python",
      "name": "python3"
    },
    "language_info": {
      "codemirror_mode": {
        "name": "ipython",
        "version": 3
      },
      "file_extension": ".py",
      "mimetype": "text/x-python",
      "name": "python",
      "nbconvert_exporter": "python",
      "pygments_lexer": "ipython3",
      "version": "3.9.12"
    }
  },
  "nbformat": 4,
  "nbformat_minor": 5
}